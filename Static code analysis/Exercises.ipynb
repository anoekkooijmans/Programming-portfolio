{
 "cells": [
  {
   "cell_type": "markdown",
   "metadata": {},
   "source": [
    "### Exercise 1: The factory\n",
    "\n",
    "The application can parse the report in two different formats as a pdf file or as a text file. In the future, it could be possible that the hospitals share the information in another file format than the two that are currently implemented. To extend the functionality in the feature, a parent class HsmrParser was created which must be extended in the implementations of the specific parsers.\n",
    "\n",
    "At the moment, two different parsers are realised, but more can be added in the future. A factory was created to get an instance of the parser based on the parser types which are defined as constants in the file parserTypes.py file.\n",
    "\n",
    "What is a factory?\n",
    "\n",
    "* *A factory is an object that is provides an interface for creating other objects. In this case, the factory is responsible for creating instances of a specific parser.*\n",
    "\n",
    "Does the implementation of the factory method follow the Interface Segregation Principle?\n",
    "\n",
    "* *The interface secregation principle states that no code should be forced to depend on methods it does not use [[1]](https://en.wikipedia.org/wiki/Interface_segregation_principle). The use of a factory avoids unnecessary dependencies and allows clients to request only what they need, therefor it does adhere to this principle.*"
   ]
  },
  {
   "cell_type": "markdown",
   "metadata": {},
   "source": [
    "### Exercise 2: Single responsibility\n",
    "\n",
    "The application uses the CCS classification to extract the information from the HSMR reports. The application uses a CSV file with the ccs index and the corresponding Dutch description. This information is provided by the CBS as a Microsoft Office Excel file. The necessary data was extracted and saved as a CSV file.\n",
    "\n",
    "Review the python files starting with Ccs. Are those files adhering to the single-responsibility principle: \"Every class should have only one responsibility”?\n",
    "\n",
    "*The **CcsClassification** class is responsible for the handling and manipulation of the data. The **CcsHospitalDataExtracter** class manages the extraction and processing of data related to CCS classification from hospitals. The **CcsHospitalInfo** represents a single hospital's CCS data and provides different methods that work with this data. As of now the classes don't appear to adhere to the single-responisbility principle. The classes could be broken down further so that each has a focused responsibility.*"
   ]
  }
 ],
 "metadata": {
  "kernelspec": {
   "display_name": "myenv",
   "language": "python",
   "name": "python3"
  },
  "language_info": {
   "codemirror_mode": {
    "name": "ipython",
    "version": 3
   },
   "file_extension": ".py",
   "mimetype": "text/x-python",
   "name": "python",
   "nbconvert_exporter": "python",
   "pygments_lexer": "ipython3",
   "version": "3.8.18"
  }
 },
 "nbformat": 4,
 "nbformat_minor": 2
}
