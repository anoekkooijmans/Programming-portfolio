{
 "cells": [
  {
   "cell_type": "markdown",
   "metadata": {},
   "source": [
    "### Exercise 1: The factory\n",
    "\n",
    "The application can parse the report in two different formats as a pdf file or as a text file. In the future, it could be possible that the hospitals share the information in another file format than the two that are currently implemented. To extend the functionality in the feature, a parent class HsmrParser was created which must be extended in the implementations of the specific parsers.\n",
    "\n",
    "At the moment, two different parsers are realised, but more can be added in the future. A factory was created to get an instance of the parser based on the parser types which are defined as constants in the file parserTypes.py file.\n",
    "\n",
    "What is a factory?\n",
    "\n",
    "* *A factory is an object that is provides an interface for creating other objects. In this case, the factory is responsible for creating instances of a specific parser.*\n",
    "\n",
    "Does the implementation of the factory method follow the Interface Segregation Principle?\n",
    "\n",
    "* *The interface secregation principle states that no code should be forced to depend on methods it does not use [[1]](https://en.wikipedia.org/wiki/Interface_segregation_principle). The use of a factory avoids unnecessary dependencies and allows clients to request only what they need, therefor it does adhere to this principle.*"
   ]
  },
  {
   "cell_type": "markdown",
   "metadata": {},
   "source": [
    "### Exercise 2: Single responsibility\n",
    "\n",
    "The application uses the CCS classification to extract the information from the HSMR reports. The application uses a CSV file with the ccs index and the corresponding Dutch description. This information is provided by the CBS as a Microsoft Office Excel file. The necessary data was extracted and saved as a CSV file.\n",
    "\n",
    "Review the python files starting with Ccs. Are those files adhering to the single-responsibility principle: \"Every class should have only one responsibility”?\n",
    "\n",
    "*The **CcsClassification** class is responsible for the handling and manipulation of the data. The **CcsHospitalDataExtracter** class manages the extraction and processing of data related to CCS classification from hospitals. The **CcsHospitalInfo** represents a single hospital's CCS data and provides different methods that work with this data. As of now the classes don't appear to adhere to the single-responisbility principle. The classes could be broken down further so that each has a focused responsibility.*"
   ]
  },
  {
   "cell_type": "markdown",
   "metadata": {},
   "source": [
    "### 3. The base classes\n",
    "\n",
    "In the code, several base classes are used. Can you find examples of the [Liskov substitution principle](https://en.wikipedia.org/wiki/Liskov_substitution_principle): \"Functions that use pointers or references to base classes must be able to use objects of derived classes without knowing it.\" Explain your answer.\n",
    "\n",
    "*This can be seen in the `get_from_csv` method of the `CcsHospitalInfo` class. This method allows you to utilize the class without needing to know about its subclasses. Additionally, new subclasses can be added, and the method will continue to function in the same way.*\n"
   ]
  },
  {
   "cell_type": "markdown",
   "metadata": {},
   "source": [
    "### Exercise 4: The local settings object\n",
    "\n",
    "A settings file was used inside the application to store the settings which can be changed over time or are user-specific. For instance, the path to a temp directory is saved inside the settings file because they will be different between users. Also, specific table names of the HSMR report, API URLs, and API headers are saved in this file because they can change and must be easily assessable.\n",
    "\n",
    "The Settings object is implemented as a Singleton object inside the application to prevent multiple instances of the same class. It also prevents multiple unnecessary parsing of the settings file and eventually different settings when the settings are manually changed during runtime of the program.\n",
    "\n",
    "Search for the Settings class. What makes this class a singleton object and is a singleton object SOLID?\n",
    "\n",
    "* *A singleton object is allows you to create just one instance of a class throughout the lifetime of a program [[2]](https://www.geeksforgeeks.org/singleton-pattern-in-python-a-complete-guide/). The ```LocalSettings``` class contains the actual settings encapsulated within the ```__LocalSettings``` class. The class ensures that even when someone tries to create additional instances of ```LocalSettings```, they will be pointed back to the initial class.*\n",
    "\n",
    "* *A singleton does not always adhere to SOLID. It might manage more than one responsibility, not adhering to the single-responsibility principle. It also does not necesarily adhere to the open/closed principle, since changes to the singleton might require modifying the class itself.*\n",
    "\n",
    "The hospital types codes are stored in a python module hospital_types.py. Is this a logical solution?\n",
    "\n",
    "* *Storing the constants in a python module is an approach to manage constants and keeping the configuratyion centralized. It makes it easier to manage and update the constants and is a logical solution.*\n",
    "\n",
    "Is there an alternative solution for these kinds of local settings and parameters? Please elaborate.\n",
    "\n",
    "* *Local settings and parameters could also be stored in configuration files. Alternatively the settings could be stored as dependencies in the classes or functions of the program.*"
   ]
  }
 ],
 "metadata": {
  "kernelspec": {
   "display_name": "myenv",
   "language": "python",
   "name": "python3"
  },
  "language_info": {
   "codemirror_mode": {
    "name": "ipython",
    "version": 3
   },
   "file_extension": ".py",
   "mimetype": "text/x-python",
   "name": "python",
   "nbconvert_exporter": "python",
   "pygments_lexer": "ipython3",
   "version": "3.8.18"
  }
 },
 "nbformat": 4,
 "nbformat_minor": 2
}
