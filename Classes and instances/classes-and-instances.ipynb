{
 "cells": [
  {
   "cell_type": "markdown",
   "metadata": {},
   "source": [
    "### Assignment 1: The Atom class\n",
    "\n",
    "**1a.** Create a class Atom that is a representation of any atom in the periodic table. Make sure that when a concrete atom is instantiated, it is given its symbol, its atomic number and the number of neutrons in the core. Store those parameters in the created object.\n",
    "\n",
    "**1b.** Create a method proton_number that returns the number of protons in the nucleus; make another method mass_number that returns the sum of protons and neutrons in the nucleus.\n",
    "\n",
    "**1c.** Create a method isotope in the class Atom. When this method is called, the normal number of neutrons must be replaced by whatever number is provided to this method.\n",
    "\n",
    "**1d.** We define an atom A to be less than another atom B if their proton number is the same (i.e. it is the same element) but the mass number of A is less than the mass number of B. Implement the methods that checks whether two isotopes of the same element are equal to each other, or less than or greater than each other. Raise an exception when the check is called with different types of elements."
   ]
  },
  {
   "cell_type": "code",
   "execution_count": 2,
   "metadata": {},
   "outputs": [],
   "source": [
    "class Atom:\n",
    "    # Store parameters\n",
    "    def __init__(self, symbol, atomic_number, neutrons):\n",
    "        self.symbol = symbol\n",
    "        self.atomic_number = atomic_number\n",
    "        self.neutrons = neutrons\n",
    "    \n",
    "    # Initialise methods\n",
    "    def proton_number(self):\n",
    "        return self.atomic_number\n",
    "        \n",
    "    def mass_number(self):\n",
    "        return self.atomic_number + self.neutrons\n",
    "    \n",
    "    def isotope(self, updated_num_neutrons):\n",
    "        self.neutrons = updated_num_neutrons\n",
    "        \n",
    "    # Initialise comparison methods\n",
    "    # Equality \n",
    "    def __eq__(self,other):\n",
    "        if isinstance(other, Atom) and self.symbol == other.symbol:\n",
    "            return self.mass_number() == other.mass_number()\n",
    "        return False\n",
    "        \n",
    "    # Less than\n",
    "    def __lt__(self,other):\n",
    "        if isinstance(other, Atom) and self.symbol == other.symbol:\n",
    "            return self.mass_number() < other.mass_number()\n",
    "        raise TypeError(\"Cannot compare atoms of different elements\")\n",
    "    \n",
    "    # Less than or equal to\n",
    "    def __le__(self, other):\n",
    "        if isinstance(other, Atom) and self.symbol == other.symbol:\n",
    "            return self.mass_number() <= other.mass_number()\n",
    "        raise TypeError(\"Cannot compare atoms of different elements\")\n",
    "        \n",
    "    # Greater than\n",
    "    def __gt__(self, other):\n",
    "        if isinstance(other, Atom) and self.symbol == other.symbol:\n",
    "            return self.mass_number() > other.mass_number()\n",
    "        raise TypeError(\"Cannot compare atoms of different elements\")\n",
    "        \n",
    "    # Greater than or equal to\n",
    "    def __ge__(self, other):\n",
    "        if isinstance(other, Atom) and self.symbol == other.symbol:\n",
    "            return self.mass_number() >= other.mass_number()\n",
    "        raise TypeError(\"Cannot compare atoms of different elements\")"
   ]
  },
  {
   "cell_type": "markdown",
   "metadata": {},
   "source": [
    "Test the class implementation:"
   ]
  },
  {
   "cell_type": "code",
   "execution_count": 3,
   "metadata": {},
   "outputs": [
    {
     "name": "stdout",
     "output_type": "stream",
     "text": [
      "False\n"
     ]
    }
   ],
   "source": [
    "protium = Atom('H', 1, 1)\n",
    "deuterium = Atom('H', 1, 2)\n",
    "oxygen = Atom('O', 8, 8)\n",
    "tritium = Atom('H', 1, 2)\n",
    "tritium.isotope(3)\n",
    "\n",
    "assert tritium.neutrons == 3\n",
    "assert tritium.mass_number() == 4\n",
    "assert protium < deuterium\n",
    "assert deuterium <= tritium\n",
    "assert tritium >= protium\n",
    "print (protium >= tritium) "
   ]
  },
  {
   "cell_type": "code",
   "execution_count": 4,
   "metadata": {},
   "outputs": [
    {
     "ename": "TypeError",
     "evalue": "Cannot compare atoms of different elements",
     "output_type": "error",
     "traceback": [
      "\u001b[0;31m---------------------------------------------------------------------------\u001b[0m",
      "\u001b[0;31mTypeError\u001b[0m                                 Traceback (most recent call last)",
      "Cell \u001b[0;32mIn[4], line 1\u001b[0m\n\u001b[0;32m----> 1\u001b[0m \u001b[38;5;28mprint\u001b[39m (\u001b[43moxygen\u001b[49m\u001b[43m \u001b[49m\u001b[38;5;241;43m>\u001b[39;49m\u001b[43m \u001b[49m\u001b[43mtritium\u001b[49m)  \n",
      "Cell \u001b[0;32mIn[2], line 41\u001b[0m, in \u001b[0;36mAtom.__gt__\u001b[0;34m(self, other)\u001b[0m\n\u001b[1;32m     39\u001b[0m \u001b[38;5;28;01mif\u001b[39;00m \u001b[38;5;28misinstance\u001b[39m(other, Atom) \u001b[38;5;129;01mand\u001b[39;00m \u001b[38;5;28mself\u001b[39m\u001b[38;5;241m.\u001b[39msymbol \u001b[38;5;241m==\u001b[39m other\u001b[38;5;241m.\u001b[39msymbol:\n\u001b[1;32m     40\u001b[0m     \u001b[38;5;28;01mreturn\u001b[39;00m \u001b[38;5;28mself\u001b[39m\u001b[38;5;241m.\u001b[39mmass_number() \u001b[38;5;241m>\u001b[39m other\u001b[38;5;241m.\u001b[39mmass_number()\n\u001b[0;32m---> 41\u001b[0m \u001b[38;5;28;01mraise\u001b[39;00m \u001b[38;5;167;01mTypeError\u001b[39;00m(\u001b[38;5;124m\"\u001b[39m\u001b[38;5;124mCannot compare atoms of different elements\u001b[39m\u001b[38;5;124m\"\u001b[39m)\n",
      "\u001b[0;31mTypeError\u001b[0m: Cannot compare atoms of different elements"
     ]
    }
   ],
   "source": [
    "print (oxygen > tritium) # <-- this should raise an Exception"
   ]
  },
  {
   "cell_type": "markdown",
   "metadata": {},
   "source": [
    "### Assignment 2: The Molecule class\n",
    "\n",
    "**2a.** Create the class Molecule. When creating an instance of this class, a list of tuples of two values (a pair) is given. The first element of this pair is the Atom-object, and the second element is the number of atoms of that type that is put into the molecule. \n",
    "\n",
    "**2b.** Make sure that when we print individual molecules, we get something resembling the correct chemical formula (you don't have to take the exact protocol into account). So, e.g. print (water) would render H2O. Make sure that the number 1 is omitted in the representation.\n",
    "\n",
    "**2c.** In our small implementation, molecules that are created can never change (they are immutable). However, we can add two molecules together in order to create a new molecule. Implement this method in the class Molecule. Creating molecules this way is, of course, not really possible. However, because of educational reasons, we pretend that this is an ok way to work."
   ]
  },
  {
   "cell_type": "code",
   "execution_count": 5,
   "metadata": {},
   "outputs": [],
   "source": [
    "class Molecule:\n",
    "    # Store parameters\n",
    "    def __init__(self, atom_quantity):\n",
    "        self.atoms = atom_quantity\n",
    "    \n",
    "    # Define methods\n",
    "    def molecular_formula(self):\n",
    "        formula = \"\"\n",
    "        for atom, quantity in self.atoms:\n",
    "            formula += atom.symbol\n",
    "            if quantity > 1:\n",
    "                formula += str(quantity)\n",
    "        return formula\n",
    "    \n",
    "    # set __str__ method\n",
    "    def __str__(self):\n",
    "        return self.molecular_formula()\n",
    "    \n",
    "    # Define how two instances of molecule are added together\n",
    "    def __add__(self, other):\n",
    "        new_atoms = self.atoms + other.atoms\n",
    "        return Molecule(new_atoms)"
   ]
  },
  {
   "cell_type": "markdown",
   "metadata": {},
   "source": [
    "Test class implementation:"
   ]
  },
  {
   "cell_type": "code",
   "execution_count": 6,
   "metadata": {},
   "outputs": [
    {
     "name": "stdout",
     "output_type": "stream",
     "text": [
      "H2O\n"
     ]
    }
   ],
   "source": [
    "# Create a water molecule\n",
    "hydrogen = Atom('H', 1, 1)\n",
    "oxygen = Atom('O', 8, 8)\n",
    "\n",
    "water = Molecule( [ (hydrogen, 2), (oxygen, 1) ] )\n",
    "print(water)"
   ]
  },
  {
   "cell_type": "code",
   "execution_count": 7,
   "metadata": {},
   "outputs": [
    {
     "name": "stdout",
     "output_type": "stream",
     "text": [
      "H2O\n",
      "CO2\n",
      "H2OCO2\n"
     ]
    }
   ],
   "source": [
    "# Creating atom instances\n",
    "hydrogen = Atom('H', 1, 1)\n",
    "carbon = Atom('C', 6, 6)\n",
    "oxygen = Atom('O', 8, 8)\n",
    "\n",
    "# Creating molecules\n",
    "water = Molecule([(hydrogen, 2), (oxygen, 1)])\n",
    "co2 = Molecule([(carbon, 1), (oxygen, 2)])\n",
    "\n",
    "# Combining molecules \n",
    "print(water)\n",
    "print(co2)\n",
    "print(water + co2)"
   ]
  },
  {
   "cell_type": "markdown",
   "metadata": {},
   "source": []
  }
 ],
 "metadata": {
  "kernelspec": {
   "display_name": "myenv",
   "language": "python",
   "name": "python3"
  },
  "language_info": {
   "codemirror_mode": {
    "name": "ipython",
    "version": 3
   },
   "file_extension": ".py",
   "mimetype": "text/x-python",
   "name": "python",
   "nbconvert_exporter": "python",
   "pygments_lexer": "ipython3",
   "version": "3.8.18"
  }
 },
 "nbformat": 4,
 "nbformat_minor": 2
}
